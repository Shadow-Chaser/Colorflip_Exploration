{
 "cells": [
  {
   "cell_type": "code",
   "execution_count": null,
   "id": "314a6f80",
   "metadata": {
    "ExecuteTime": {
     "end_time": "2023-11-11T15:25:27.788190Z",
     "start_time": "2023-11-11T15:25:27.104669Z"
    }
   },
   "outputs": [],
   "source": [
    "import numpy as np\n",
    "import pandas as pd\n",
    "import networkx as nx"
   ]
  },
  {
   "cell_type": "code",
   "execution_count": null,
   "id": "ea8d3f0c",
   "metadata": {
    "ExecuteTime": {
     "end_time": "2023-11-11T15:25:27.803985Z",
     "start_time": "2023-11-11T15:25:27.790190Z"
    }
   },
   "outputs": [],
   "source": [
    "# sl=eval(input('请输入边长：'))\n",
    "# fp=(eval(input('请输入旗点纵坐标（从0开始）：')), eval(input('请输入旗点横坐标（从0开始）：')))\n",
    "\n",
    "# mat=[]\n",
    "# for i in range(sl):\n",
    "#     mat.append(input('请输入第{}行（空格分隔）：'.format(i+1)).split())\n",
    "\n",
    "# mat=pd.DataFrame(mat)\n",
    "\n",
    "# mat"
   ]
  },
  {
   "cell_type": "code",
   "execution_count": null,
   "id": "788d9ab9",
   "metadata": {
    "ExecuteTime": {
     "end_time": "2023-11-11T15:25:33.004626Z",
     "start_time": "2023-11-11T15:25:27.804985Z"
    }
   },
   "outputs": [],
   "source": [
    "fp=(eval(input('请输入旗点纵坐标（从0开始）：')), eval(input('请输入旗点横坐标（从0开始）：')))\n",
    "\n",
    "mat=pd.read_excel(r'目录/地图.xlsx', header=None)\n",
    "sl=np.shape(mat)[0]\n",
    "\n",
    "mat"
   ]
  },
  {
   "cell_type": "code",
   "execution_count": null,
   "id": "cbc8e5da",
   "metadata": {
    "ExecuteTime": {
     "end_time": "2023-11-11T15:25:33.068707Z",
     "start_time": "2023-11-11T15:25:33.006627Z"
    }
   },
   "outputs": [],
   "source": [
    "G=nx.Graph()\n",
    "\n",
    "for i in range(sl):\n",
    "    for j in range(sl):\n",
    "        G.add_node((i,j), color=mat.iloc[i,j])\n",
    "\n",
    "for i in range(sl):\n",
    "    for j in range(sl):\n",
    "        if j+1<=sl-1:\n",
    "            G.add_edge((i,j), (i,j+1))\n",
    "        if i+1<=sl-1:\n",
    "            G.add_edge((i,j), (i+1,j))\n",
    "\n",
    "# print(G._node)\n",
    "# print(pd.DataFrame(G.edges))"
   ]
  },
  {
   "cell_type": "code",
   "execution_count": null,
   "id": "143088e4",
   "metadata": {
    "ExecuteTime": {
     "end_time": "2023-11-11T15:25:33.084707Z",
     "start_time": "2023-11-11T15:25:33.069704Z"
    }
   },
   "outputs": [],
   "source": [
    "def func(G, fp, seq):\n",
    "    G1=G.copy()\n",
    "    steps=np.inf\n",
    "    counter=0\n",
    "    \n",
    "    # 依次执行操作序列中的操作\n",
    "    for i in range(len(seq)+1):\n",
    "        # 遍历所有节点\n",
    "        for node in list(G1._node):\n",
    "            # 防止把旗点所在色块对应的节点弄没了\n",
    "            if node!=fp:\n",
    "                # 遍历当前节点的相邻节点\n",
    "                for neighbor in G1[node]:\n",
    "                    # 若当前节点的相邻节点中有与其同色的节点\n",
    "                    if (G1._node[node])['color']==(G1._node[neighbor])['color']:\n",
    "                        # 将该相邻节点设为目标节点\n",
    "                        target_neighbor=neighbor\n",
    "                        # 将其他相邻节点的名称存入列表\n",
    "                        other_neighbors=list(set(G1[node])-{target_neighbor})\n",
    "                        \n",
    "                        # 建立其他相邻节点与目标节点间的边\n",
    "                        for curr_neighbor in other_neighbors:\n",
    "                            G1.add_edge(curr_neighbor, target_neighbor)\n",
    "                            \n",
    "                        # 删除当前节点\n",
    "                        G1.remove_node(node)\n",
    "                        break\n",
    "        \n",
    "        # 若节点数减小到了1，说明已通关\n",
    "        if len(G1._node)==1:\n",
    "            steps=counter\n",
    "            break\n",
    "        \n",
    "        # 将旗点所在色块对应的节点变色\n",
    "        (G1._node[fp])['color']=seq[i] if i<=len(seq)-1 else list(seq)[-1]\n",
    "        \n",
    "        counter+=1\n",
    "        \n",
    "    return steps"
   ]
  },
  {
   "cell_type": "code",
   "execution_count": null,
   "id": "f35181d8",
   "metadata": {
    "ExecuteTime": {
     "end_time": "2023-11-11T15:25:33.099710Z",
     "start_time": "2023-11-11T15:25:33.085712Z"
    }
   },
   "outputs": [],
   "source": [
    "def seq_generator(G, fp, n, l):\n",
    "    pre_color=(G._node[fp])['color']\n",
    "    seq_mat=[]\n",
    "    for i in range(n):\n",
    "        seq_ls=[]\n",
    "        for j in range(l):\n",
    "            colors={'r','o','y','g','b','p'}-set(pre_color)\n",
    "            curr_color=np.random.choice(list(colors))\n",
    "            seq_ls.append(curr_color)\n",
    "            pre_color=curr_color\n",
    "        \n",
    "        seq_mat.append(seq_ls)\n",
    "        \n",
    "    return pd.DataFrame(seq_mat)"
   ]
  },
  {
   "cell_type": "code",
   "execution_count": null,
   "id": "e6578585",
   "metadata": {
    "ExecuteTime": {
     "end_time": "2023-11-11T15:25:33.115714Z",
     "start_time": "2023-11-11T15:25:33.100710Z"
    }
   },
   "outputs": [],
   "source": [
    "def GA(G, fp, seq_num, seq_len, death_num, prob_mut, target_steps, max_iter, return_log=False):\n",
    "    seq_opt=[]\n",
    "    min_steps=np.inf\n",
    "    seq_df=seq_generator(G, fp, seq_num, seq_len)\n",
    "    steps_of_curr_seqs=pd.DataFrame(np.empty((seq_num, 1), dtype=int), columns=['steps'])\n",
    "    log=[]\n",
    "    \n",
    "    for i in range(max_iter+1):\n",
    "        for j in range(seq_num):\n",
    "            steps_of_curr_seqs.iloc[j,0]=func(G, fp, seq_df.iloc[j,:])\n",
    "            \n",
    "        df_sorted=pd.concat([seq_df, steps_of_curr_seqs], axis=1).sort_values(by='steps')\n",
    "        log.append([i, df_sorted['steps'].iloc[0]])\n",
    "        \n",
    "        if df_sorted['steps'].iloc[0]<min_steps:\n",
    "            min_steps=df_sorted['steps'].iloc[0]\n",
    "            seq_opt=list(df_sorted.iloc[0,:-1])\n",
    "        \n",
    "        if min_steps<=target_steps:\n",
    "            break\n",
    "        \n",
    "        seq_alive_df=df_sorted.iloc[0:seq_num-death_num, :-1]\n",
    "        \n",
    "        seq_new_ls=[]\n",
    "        for j in range(death_num):\n",
    "            parents_index=np.random.choice(range(seq_num-death_num), 2)\n",
    "            \n",
    "            cut_positions=[]\n",
    "            for k in range(seq_len-1):\n",
    "                if seq_alive_df.iloc[parents_index[0], k]!=seq_alive_df.iloc[parents_index[1], k+1]:\n",
    "                    cut_positions.append(k)\n",
    "                    \n",
    "            cut_position=np.random.choice(cut_positions) if cut_positions!=[] else np.random.choice(range(seq_len-1))\n",
    "            \n",
    "            newseq_head=list(seq_alive_df.iloc[parents_index[0], :cut_position+1])\n",
    "            newseq_tail=list(seq_alive_df.iloc[parents_index[1], cut_position+1:])\n",
    "            seq_new_ls.append(newseq_head+newseq_tail)\n",
    "        \n",
    "        seq_new_df=pd.DataFrame(seq_new_ls)\n",
    "        seq_df_new=pd.concat([seq_alive_df, seq_new_df], axis=0)\n",
    "        \n",
    "        mut_num=round(seq_num*prob_mut)\n",
    "        mut_seq_index=np.random.choice(range(seq_num), mut_num)\n",
    "        \n",
    "        for j in range(mut_num):\n",
    "            mut_position=np.random.randint(0, seq_len)\n",
    "            seq_df_new.iloc[mut_seq_index[j], mut_position]=np.random.choice(['r','o','y','g','b','p'])\n",
    "            \n",
    "        seq_df=seq_df_new\n",
    "        seq_df.index=range(seq_num)\n",
    "        \n",
    "    if return_log==True:\n",
    "        return min_steps, seq_opt, pd.DataFrame(log, columns=['iterations','curr_min_steps'])\n",
    "    else:\n",
    "        return min_steps, seq_opt"
   ]
  },
  {
   "cell_type": "code",
   "execution_count": null,
   "id": "c49e64c9",
   "metadata": {
    "ExecuteTime": {
     "end_time": "2023-11-11T15:31:14.709695Z",
     "start_time": "2023-11-11T15:25:33.116714Z"
    }
   },
   "outputs": [],
   "source": [
    "# G, fp, seq_num, seq_len, death_num, prob_mut, target_steps, max_iter, return_log\n",
    "min_steps, seq_opt, log=GA(G, fp, 1600, 16, 800, 0.01, 12, 100, True)\n",
    "\n",
    "print(min_steps)\n",
    "print(seq_opt)"
   ]
  },
  {
   "cell_type": "code",
   "execution_count": null,
   "id": "3103e001",
   "metadata": {
    "ExecuteTime": {
     "end_time": "2023-11-11T15:31:16.462388Z",
     "start_time": "2023-11-11T15:31:14.711679Z"
    }
   },
   "outputs": [],
   "source": [
    "import matplotlib.pyplot as plt\n",
    "%matplotlib inline\n",
    "import seaborn as sns\n",
    "sns.set()\n",
    "\n",
    "plt.plot(log['iterations'], log['curr_min_steps'])\n",
    "plt.xlabel('iterations')\n",
    "plt.ylabel('curr_min_steps')"
   ]
  }
 ],
 "metadata": {
  "kernelspec": {
   "display_name": "Python 3 (ipykernel)",
   "language": "python",
   "name": "python3"
  },
  "language_info": {
   "codemirror_mode": {
    "name": "ipython",
    "version": 3
   },
   "file_extension": ".py",
   "mimetype": "text/x-python",
   "name": "python",
   "nbconvert_exporter": "python",
   "pygments_lexer": "ipython3",
   "version": "3.9.18"
  }
 },
 "nbformat": 4,
 "nbformat_minor": 5
}
