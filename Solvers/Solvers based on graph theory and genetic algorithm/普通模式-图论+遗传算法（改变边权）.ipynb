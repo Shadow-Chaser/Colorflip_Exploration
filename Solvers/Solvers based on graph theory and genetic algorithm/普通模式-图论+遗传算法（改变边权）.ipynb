{
 "cells": [
  {
   "cell_type": "code",
   "execution_count": null,
   "id": "9b4d3103",
   "metadata": {
    "ExecuteTime": {
     "end_time": "2023-11-06T14:03:33.605941Z",
     "start_time": "2023-11-06T14:03:32.863773Z"
    }
   },
   "outputs": [],
   "source": [
    "import numpy as np\n",
    "import pandas as pd\n",
    "import networkx as nx"
   ]
  },
  {
   "cell_type": "code",
   "execution_count": null,
   "id": "958ec473",
   "metadata": {
    "ExecuteTime": {
     "end_time": "2023-11-05T12:28:56.476797Z",
     "start_time": "2023-11-05T12:28:56.462793Z"
    }
   },
   "outputs": [],
   "source": [
    "# sl=eval(input('请输入边长：'))\n",
    "# fp=(eval(input('请输入旗点纵坐标（从0开始）：')), eval(input('请输入旗点横坐标（从0开始）：')))\n",
    "\n",
    "# mat=[]\n",
    "# for i in range(sl):\n",
    "#     mat.append(input('请输入第{}行（空格分隔）：'.format(i+1)).split())\n",
    "\n",
    "# mat=pd.DataFrame(mat)\n",
    "\n",
    "# mat"
   ]
  },
  {
   "cell_type": "code",
   "execution_count": null,
   "id": "4f271ba8",
   "metadata": {
    "ExecuteTime": {
     "end_time": "2023-11-06T14:04:00.772078Z",
     "start_time": "2023-11-06T14:03:56.719161Z"
    }
   },
   "outputs": [],
   "source": [
    "fp=(eval(input('请输入旗点纵坐标（从0开始）：')), eval(input('请输入旗点横坐标（从0开始）：')))\n",
    "\n",
    "mat=pd.read_excel(r'目录/地图.xlsx', header=None)\n",
    "sl=np.shape(mat)[0]\n",
    "\n",
    "mat"
   ]
  },
  {
   "cell_type": "code",
   "execution_count": null,
   "id": "e560fd27",
   "metadata": {
    "ExecuteTime": {
     "end_time": "2023-11-06T14:27:02.440587Z",
     "start_time": "2023-11-06T14:27:02.411581Z"
    }
   },
   "outputs": [],
   "source": [
    "G=nx.Graph()\n",
    "\n",
    "# 添加节点，为其设置颜色属性\n",
    "for i in range(sl):\n",
    "    for j in range(sl):\n",
    "        G.add_node((i,j), color=mat.iloc[i,j])\n",
    "\n",
    "# 添加边，设置边权\n",
    "for i in range(sl):\n",
    "    for j in range(sl):\n",
    "        if j+1<=sl-1:\n",
    "            w=0 if (G._node[(i,j)])['color']==(G._node[(i,j+1)])['color'] else 1\n",
    "            G.add_edge((i,j), (i,j+1), weight=w)\n",
    "        if i+1<=sl-1:\n",
    "            w=0 if (G._node[(i,j)])['color']==(G._node[(i+1,j)])['color'] else 1\n",
    "            G.add_edge((i,j), (i+1,j), weight=w)\n",
    "\n",
    "# print(G._node)\n",
    "# print(pd.DataFrame(G.edges(data=True)))"
   ]
  },
  {
   "cell_type": "code",
   "execution_count": null,
   "id": "da014c99",
   "metadata": {
    "ExecuteTime": {
     "end_time": "2023-11-06T15:20:17.200433Z",
     "start_time": "2023-11-06T15:20:17.193431Z"
    }
   },
   "outputs": [],
   "source": [
    "def func(G, fp, seq):\n",
    "    G1=G.copy()\n",
    "    steps=np.inf\n",
    "    counter=0\n",
    "    \n",
    "    # 依次执行操作序列中的操作\n",
    "    for operation in seq:\n",
    "        # 遍历所有节点\n",
    "        for i in range(sl):\n",
    "            for j in range(sl):\n",
    "                # 若其对应的格子在旗点所在色块上，则将其变色\n",
    "                if nx.dijkstra_path_length(G1, source=fp, target=(i,j))==0:\n",
    "                    (G1._node[(i,j)])['color']=operation\n",
    "                    \n",
    "        # 遍历所有边\n",
    "        for edge in list(G1.edges):\n",
    "            # 将同色节点间的边权重设为0\n",
    "            if (G1._node[edge[0]])['color']==(G1._node[edge[1]])['color']:\n",
    "                (G1[edge[0]][edge[1]])['weight']=0\n",
    "                \n",
    "        counter+=1\n",
    "        \n",
    "        if len(set([(G1._node[p])['color'] for p in G1._node]))==1:\n",
    "            steps=counter\n",
    "            break\n",
    "            \n",
    "    return steps"
   ]
  },
  {
   "cell_type": "code",
   "execution_count": null,
   "id": "50740422",
   "metadata": {
    "ExecuteTime": {
     "end_time": "2023-11-06T15:20:21.979529Z",
     "start_time": "2023-11-06T15:20:21.965528Z"
    }
   },
   "outputs": [],
   "source": [
    "def seq_generator(G, fp, n, l):\n",
    "    # 获取旗点颜色\n",
    "    pre_color=(G._node[fp])['color']\n",
    "    seq_mat=[]\n",
    "    for i in range(n):\n",
    "        seq_ls=[]\n",
    "        for j in range(l):\n",
    "            # 不能变成当前颜色\n",
    "            colors={'r','o','y','g','b','p'}-set(pre_color)\n",
    "            curr_color=np.random.choice(list(colors))\n",
    "            seq_ls.append(curr_color)\n",
    "            # 更新前一步变成的颜色\n",
    "            pre_color=curr_color\n",
    "        \n",
    "        seq_mat.append(seq_ls)\n",
    "        \n",
    "    return pd.DataFrame(seq_mat)"
   ]
  },
  {
   "cell_type": "code",
   "execution_count": null,
   "id": "ef0c2c8c",
   "metadata": {
    "ExecuteTime": {
     "end_time": "2023-11-05T12:29:00.207648Z",
     "start_time": "2023-11-05T12:29:00.192645Z"
    }
   },
   "outputs": [],
   "source": [
    "# 关卡图，旗点坐标，种群规模，操作序列长度，每轮死亡数，变异率，目标步数，最大迭代次数，是否返回日志\n",
    "def GA(G, fp, seq_num, seq_len, death_num, prob_mut, target_steps, max_iter, return_log=False):\n",
    "    seq_opt=[]\n",
    "    min_steps=np.inf\n",
    "    seq_df=seq_generator(G, fp, seq_num, seq_len)\n",
    "    steps_of_curr_seqs=pd.DataFrame(np.empty((seq_num, 1), dtype=int), columns=['steps'])\n",
    "    log=[]\n",
    "    \n",
    "    for i in range(max_iter+1):\n",
    "        # 计算每个个体的适应度（通关操作步数）\n",
    "        for j in range(seq_num):\n",
    "            steps_of_curr_seqs.iloc[j,0]=func(G, fp, seq_df.iloc[j,:])\n",
    "        \n",
    "        # 将个体按通关操作步数从低到高排序\n",
    "        df_sorted=pd.concat([seq_df, steps_of_curr_seqs], axis=1).sort_values(by='steps')\n",
    "        # 将当前迭代次数与当前最小通关操作步数写入日志\n",
    "        log.append([i, df_sorted['steps'].iloc[0]])\n",
    "        \n",
    "        # 判断最小通关操作步数是否有所下降\n",
    "        if df_sorted['steps'].iloc[0]<min_steps:\n",
    "            min_steps=df_sorted['steps'].iloc[0]\n",
    "            seq_opt=list(df_sorted.iloc[0,:-1])\n",
    "        \n",
    "        # 判断是否达到目标操作步数\n",
    "        if min_steps<=target_steps:\n",
    "            break\n",
    "        \n",
    "        # 选出存活的个体\n",
    "        seq_alive_df=df_sorted.iloc[0:seq_num-death_num, :-1]\n",
    "        \n",
    "        # 繁殖\n",
    "        seq_new_ls=[]\n",
    "        for j in range(death_num):\n",
    "            # 选出新个体的亲代\n",
    "            parents_index=np.random.choice(range(seq_num-death_num), 2)\n",
    "            \n",
    "            # 找出可选切割点\n",
    "            cut_positions=[]\n",
    "            for k in range(seq_len-1):\n",
    "                if seq_alive_df.iloc[parents_index[0], k]!=seq_alive_df.iloc[parents_index[1], k+1]:\n",
    "                    cut_positions.append(k)\n",
    "            \n",
    "            # 选出切割位置\n",
    "            cut_position=np.random.choice(cut_positions) if cut_positions!=[] else np.random.choice(range(seq_len-1))\n",
    "            \n",
    "            # 生成新个体\n",
    "            newseq_head=list(seq_alive_df.iloc[parents_index[0], :cut_position+1])\n",
    "            newseq_tail=list(seq_alive_df.iloc[parents_index[1], cut_position+1:])\n",
    "            seq_new_ls.append(newseq_head+newseq_tail)\n",
    "        \n",
    "        seq_new_df=pd.DataFrame(seq_new_ls)\n",
    "        seq_df_new=pd.concat([seq_alive_df, seq_new_df], axis=0)\n",
    "        \n",
    "        # 选出突变个体\n",
    "        mut_num=round(seq_num*prob_mut)\n",
    "        mut_seq_index=np.random.choice(range(seq_num), mut_num)\n",
    "        \n",
    "        # 对突变个体执行突变\n",
    "        for j in range(mut_num):\n",
    "            mut_position=np.random.randint(0, seq_len)\n",
    "            seq_df_new.iloc[mut_seq_index[j], mut_position]=np.random.choice(['r','o','y','g','b','p'])\n",
    "        \n",
    "        # 更新种群\n",
    "        seq_df=seq_df_new\n",
    "        # 重置操作序列DataFrame索引，防止其无法与通关步数DataFrame拼合\n",
    "        seq_df.index=range(seq_num)\n",
    "        \n",
    "    if return_log==True:\n",
    "        return min_steps, seq_opt, pd.DataFrame(log, columns=['iterations', 'curr_min_steps'])\n",
    "    else:\n",
    "        return min_steps, seq_opt"
   ]
  },
  {
   "cell_type": "code",
   "execution_count": null,
   "id": "c3b7ef1e",
   "metadata": {
    "ExecuteTime": {
     "end_time": "2023-11-05T12:31:10.931792Z",
     "start_time": "2023-11-05T12:29:00.208648Z"
    }
   },
   "outputs": [],
   "source": [
    "# G, fp, seq_num, seq_len, death_num, prob_mut, target_steps, max_iter, return_log\n",
    "min_steps, seq_opt, log=GA(G, fp, 200, 15, 50, 0.01, 0, 10, True)\n",
    "\n",
    "print(min_steps)\n",
    "print(seq_opt)"
   ]
  },
  {
   "cell_type": "code",
   "execution_count": null,
   "id": "bdd194d9",
   "metadata": {
    "ExecuteTime": {
     "end_time": "2023-11-05T12:31:11.058824Z",
     "start_time": "2023-11-05T12:31:10.933796Z"
    }
   },
   "outputs": [],
   "source": [
    "import matplotlib.pyplot as plt\n",
    "%matplotlib inline\n",
    "import seaborn as sns\n",
    "sns.set()\n",
    "\n",
    "plt.plot(log['iterations'], log['curr_min_steps'])\n",
    "plt.xlabel('iterations')\n",
    "plt.ylabel('curr_min_steps')"
   ]
  }
 ],
 "metadata": {
  "kernelspec": {
   "display_name": "Python 3 (ipykernel)",
   "language": "python",
   "name": "python3"
  },
  "language_info": {
   "codemirror_mode": {
    "name": "ipython",
    "version": 3
   },
   "file_extension": ".py",
   "mimetype": "text/x-python",
   "name": "python",
   "nbconvert_exporter": "python",
   "pygments_lexer": "ipython3",
   "version": "3.9.18"
  }
 },
 "nbformat": 4,
 "nbformat_minor": 5
}
