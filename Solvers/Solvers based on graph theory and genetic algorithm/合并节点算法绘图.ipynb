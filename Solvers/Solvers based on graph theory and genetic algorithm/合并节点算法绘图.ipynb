{
 "cells": [
  {
   "cell_type": "code",
   "execution_count": null,
   "id": "eb33ea5e",
   "metadata": {
    "ExecuteTime": {
     "end_time": "2023-11-06T07:44:46.515221Z",
     "start_time": "2023-11-06T07:44:46.495216Z"
    }
   },
   "outputs": [],
   "source": [
    "import numpy as np\n",
    "import pandas as pd\n",
    "import networkx as nx\n",
    "import matplotlib.pyplot as plt\n",
    "%matplotlib inline"
   ]
  },
  {
   "cell_type": "code",
   "execution_count": null,
   "id": "5bb03e3f",
   "metadata": {
    "ExecuteTime": {
     "end_time": "2023-11-06T07:45:13.181716Z",
     "start_time": "2023-11-06T07:44:46.515221Z"
    }
   },
   "outputs": [],
   "source": [
    "fp=(eval(input('请输入旗点纵坐标（从0开始）：')), eval(input('请输入旗点横坐标（从0开始）：')))\n",
    "\n",
    "mat=pd.read_excel(r'目录/地图.xlsx', header=None)\n",
    "sl=np.shape(mat)[0]\n",
    "\n",
    "mat"
   ]
  },
  {
   "cell_type": "code",
   "execution_count": null,
   "id": "d58db0ad",
   "metadata": {
    "ExecuteTime": {
     "end_time": "2023-11-06T07:45:13.961188Z",
     "start_time": "2023-11-06T07:45:13.181716Z"
    }
   },
   "outputs": [],
   "source": [
    "G=nx.Graph()\n",
    "\n",
    "for i in range(sl):\n",
    "    for j in range(sl):\n",
    "        G.add_node((i,j), color=mat.iloc[i,j])\n",
    "\n",
    "for i in range(sl):\n",
    "    for j in range(sl):\n",
    "        if j+1<=sl-1:\n",
    "            G.add_edge((i,j), (i,j+1))\n",
    "        if i+1<=sl-1:\n",
    "            G.add_edge((i,j), (i+1,j))\n",
    "\n",
    "# print(G._node)\n",
    "# print(pd.DataFrame(G.edges))\n",
    "\n",
    "# nx.draw(G, with_labels=True)"
   ]
  },
  {
   "cell_type": "code",
   "execution_count": null,
   "id": "4e59f217",
   "metadata": {
    "ExecuteTime": {
     "end_time": "2023-11-06T07:45:13.977522Z",
     "start_time": "2023-11-06T07:45:13.961188Z"
    }
   },
   "outputs": [],
   "source": [
    "def func(G, fp, seq):\n",
    "    G1=G.copy()\n",
    "    steps=np.inf\n",
    "    counter=0\n",
    "    G_ls=[]\n",
    "    \n",
    "    for i in range(len(seq)+1):\n",
    "        for node in list(G1._node):\n",
    "            if node!=fp:\n",
    "                for neighbor in G1[node]:\n",
    "                    if (G1._node[node])['color']==(G1._node[neighbor])['color']:\n",
    "                        target_neighbor=neighbor\n",
    "                        other_neighbors=list(set(G1[node])-{target_neighbor})\n",
    "                        \n",
    "                        for curr_neighbor in other_neighbors:\n",
    "                            G1.add_edge(curr_neighbor, target_neighbor)\n",
    "                            \n",
    "                        G1.remove_node(node)\n",
    "                        break\n",
    "                        \n",
    "        G_ls.append(G1.copy())\n",
    "        \n",
    "        if len(G1._node)==1:\n",
    "            steps=counter\n",
    "            break\n",
    "            \n",
    "        (G1._node[fp])['color']=seq[i] if i<=len(seq)-1 else list(seq)[-1]\n",
    "        \n",
    "        counter+=1\n",
    "        \n",
    "    return steps, G_ls"
   ]
  },
  {
   "cell_type": "code",
   "execution_count": null,
   "id": "0e87432d",
   "metadata": {
    "ExecuteTime": {
     "end_time": "2023-11-06T07:45:13.993192Z",
     "start_time": "2023-11-06T07:45:13.977522Z"
    }
   },
   "outputs": [],
   "source": [
    "steps, G_ls=func(G, fp, ['o','y','g','b','p','r'])\n",
    "\n",
    "G_ls"
   ]
  },
  {
   "cell_type": "code",
   "execution_count": null,
   "id": "b1fa6249",
   "metadata": {
    "ExecuteTime": {
     "end_time": "2023-11-06T07:47:00.690747Z",
     "start_time": "2023-11-06T07:47:00.034257Z"
    }
   },
   "outputs": [],
   "source": [
    "color_map={'r': '#dc393e', 'o': '#fa7b1e', 'y': '#f2ce3a', 'g': '#58d44e', 'b': '#20c2d7', 'p': '#8c20d5'}\n",
    "\n",
    "h=2\n",
    "fig=plt.figure(figsize=(len(G_ls)*h, h), facecolor='#f4f4fc')\n",
    "\n",
    "for i in range(len(G_ls)):\n",
    "    color_ls=[]\n",
    "    for j in list(G_ls[i]._node):\n",
    "        color_ls.append(color_map[(G_ls[i]._node[j])['color']])\n",
    "        \n",
    "    plt.subplot(1, len(G_ls), i+1)\n",
    "    nx.draw(G_ls[i], node_size=100, node_color=color_ls, edge_color='#999', pos=nx.spring_layout(G_ls[i]))\n",
    "    \n",
    "plt.savefig(r'C:/Anaconda/JupyterCode/色彩翻翻求解器/图论+遗传算法/合并节点算法绘图.png', dpi=200, bbox_inches='tight')"
   ]
  }
 ],
 "metadata": {
  "kernelspec": {
   "display_name": "Python 3 (ipykernel)",
   "language": "python",
   "name": "python3"
  },
  "language_info": {
   "codemirror_mode": {
    "name": "ipython",
    "version": 3
   },
   "file_extension": ".py",
   "mimetype": "text/x-python",
   "name": "python",
   "nbconvert_exporter": "python",
   "pygments_lexer": "ipython3",
   "version": "3.9.18"
  }
 },
 "nbformat": 4,
 "nbformat_minor": 5
}
