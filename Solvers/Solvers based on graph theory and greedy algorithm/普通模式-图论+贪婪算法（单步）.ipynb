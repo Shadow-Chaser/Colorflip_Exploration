{
 "cells": [
  {
   "cell_type": "code",
   "execution_count": 25,
   "id": "00b677fc",
   "metadata": {
    "ExecuteTime": {
     "end_time": "2023-11-08T14:25:57.162414Z",
     "start_time": "2023-11-08T14:25:57.147283Z"
    }
   },
   "outputs": [],
   "source": [
    "import numpy as np\n",
    "import pandas as pd\n",
    "import networkx as nx"
   ]
  },
  {
   "cell_type": "code",
   "execution_count": 26,
   "id": "52e14d89",
   "metadata": {
    "ExecuteTime": {
     "end_time": "2023-11-08T14:25:59.459236Z",
     "start_time": "2023-11-08T14:25:57.164414Z"
    }
   },
   "outputs": [
    {
     "name": "stdout",
     "output_type": "stream",
     "text": [
      "请输入旗点纵坐标（从0开始）：3\n",
      "请输入旗点横坐标（从0开始）：2\n"
     ]
    },
    {
     "data": {
      "text/html": [
       "<div>\n",
       "<style scoped>\n",
       "    .dataframe tbody tr th:only-of-type {\n",
       "        vertical-align: middle;\n",
       "    }\n",
       "\n",
       "    .dataframe tbody tr th {\n",
       "        vertical-align: top;\n",
       "    }\n",
       "\n",
       "    .dataframe thead th {\n",
       "        text-align: right;\n",
       "    }\n",
       "</style>\n",
       "<table border=\"1\" class=\"dataframe\">\n",
       "  <thead>\n",
       "    <tr style=\"text-align: right;\">\n",
       "      <th></th>\n",
       "      <th>0</th>\n",
       "      <th>1</th>\n",
       "      <th>2</th>\n",
       "      <th>3</th>\n",
       "      <th>4</th>\n",
       "      <th>5</th>\n",
       "      <th>6</th>\n",
       "      <th>7</th>\n",
       "      <th>8</th>\n",
       "      <th>9</th>\n",
       "      <th>10</th>\n",
       "    </tr>\n",
       "  </thead>\n",
       "  <tbody>\n",
       "    <tr>\n",
       "      <th>0</th>\n",
       "      <td>r</td>\n",
       "      <td>o</td>\n",
       "      <td>g</td>\n",
       "      <td>g</td>\n",
       "      <td>p</td>\n",
       "      <td>p</td>\n",
       "      <td>p</td>\n",
       "      <td>y</td>\n",
       "      <td>g</td>\n",
       "      <td>p</td>\n",
       "      <td>p</td>\n",
       "    </tr>\n",
       "    <tr>\n",
       "      <th>1</th>\n",
       "      <td>p</td>\n",
       "      <td>p</td>\n",
       "      <td>g</td>\n",
       "      <td>b</td>\n",
       "      <td>p</td>\n",
       "      <td>p</td>\n",
       "      <td>r</td>\n",
       "      <td>r</td>\n",
       "      <td>o</td>\n",
       "      <td>y</td>\n",
       "      <td>y</td>\n",
       "    </tr>\n",
       "    <tr>\n",
       "      <th>2</th>\n",
       "      <td>g</td>\n",
       "      <td>o</td>\n",
       "      <td>o</td>\n",
       "      <td>r</td>\n",
       "      <td>r</td>\n",
       "      <td>o</td>\n",
       "      <td>g</td>\n",
       "      <td>b</td>\n",
       "      <td>g</td>\n",
       "      <td>b</td>\n",
       "      <td>r</td>\n",
       "    </tr>\n",
       "    <tr>\n",
       "      <th>3</th>\n",
       "      <td>y</td>\n",
       "      <td>y</td>\n",
       "      <td>p</td>\n",
       "      <td>g</td>\n",
       "      <td>r</td>\n",
       "      <td>o</td>\n",
       "      <td>o</td>\n",
       "      <td>g</td>\n",
       "      <td>g</td>\n",
       "      <td>g</td>\n",
       "      <td>y</td>\n",
       "    </tr>\n",
       "    <tr>\n",
       "      <th>4</th>\n",
       "      <td>b</td>\n",
       "      <td>y</td>\n",
       "      <td>o</td>\n",
       "      <td>o</td>\n",
       "      <td>y</td>\n",
       "      <td>y</td>\n",
       "      <td>p</td>\n",
       "      <td>g</td>\n",
       "      <td>g</td>\n",
       "      <td>o</td>\n",
       "      <td>g</td>\n",
       "    </tr>\n",
       "    <tr>\n",
       "      <th>5</th>\n",
       "      <td>g</td>\n",
       "      <td>y</td>\n",
       "      <td>r</td>\n",
       "      <td>p</td>\n",
       "      <td>g</td>\n",
       "      <td>o</td>\n",
       "      <td>o</td>\n",
       "      <td>r</td>\n",
       "      <td>g</td>\n",
       "      <td>y</td>\n",
       "      <td>y</td>\n",
       "    </tr>\n",
       "    <tr>\n",
       "      <th>6</th>\n",
       "      <td>b</td>\n",
       "      <td>g</td>\n",
       "      <td>b</td>\n",
       "      <td>p</td>\n",
       "      <td>p</td>\n",
       "      <td>r</td>\n",
       "      <td>p</td>\n",
       "      <td>o</td>\n",
       "      <td>o</td>\n",
       "      <td>o</td>\n",
       "      <td>y</td>\n",
       "    </tr>\n",
       "    <tr>\n",
       "      <th>7</th>\n",
       "      <td>p</td>\n",
       "      <td>g</td>\n",
       "      <td>b</td>\n",
       "      <td>b</td>\n",
       "      <td>g</td>\n",
       "      <td>y</td>\n",
       "      <td>p</td>\n",
       "      <td>p</td>\n",
       "      <td>b</td>\n",
       "      <td>r</td>\n",
       "      <td>g</td>\n",
       "    </tr>\n",
       "    <tr>\n",
       "      <th>8</th>\n",
       "      <td>r</td>\n",
       "      <td>o</td>\n",
       "      <td>b</td>\n",
       "      <td>r</td>\n",
       "      <td>p</td>\n",
       "      <td>y</td>\n",
       "      <td>y</td>\n",
       "      <td>y</td>\n",
       "      <td>b</td>\n",
       "      <td>b</td>\n",
       "      <td>p</td>\n",
       "    </tr>\n",
       "    <tr>\n",
       "      <th>9</th>\n",
       "      <td>g</td>\n",
       "      <td>o</td>\n",
       "      <td>p</td>\n",
       "      <td>b</td>\n",
       "      <td>p</td>\n",
       "      <td>y</td>\n",
       "      <td>y</td>\n",
       "      <td>g</td>\n",
       "      <td>r</td>\n",
       "      <td>g</td>\n",
       "      <td>b</td>\n",
       "    </tr>\n",
       "    <tr>\n",
       "      <th>10</th>\n",
       "      <td>b</td>\n",
       "      <td>g</td>\n",
       "      <td>p</td>\n",
       "      <td>p</td>\n",
       "      <td>p</td>\n",
       "      <td>p</td>\n",
       "      <td>p</td>\n",
       "      <td>g</td>\n",
       "      <td>y</td>\n",
       "      <td>g</td>\n",
       "      <td>o</td>\n",
       "    </tr>\n",
       "  </tbody>\n",
       "</table>\n",
       "</div>"
      ],
      "text/plain": [
       "   0  1  2  3  4  5  6  7  8  9  10\n",
       "0   r  o  g  g  p  p  p  y  g  p  p\n",
       "1   p  p  g  b  p  p  r  r  o  y  y\n",
       "2   g  o  o  r  r  o  g  b  g  b  r\n",
       "3   y  y  p  g  r  o  o  g  g  g  y\n",
       "4   b  y  o  o  y  y  p  g  g  o  g\n",
       "5   g  y  r  p  g  o  o  r  g  y  y\n",
       "6   b  g  b  p  p  r  p  o  o  o  y\n",
       "7   p  g  b  b  g  y  p  p  b  r  g\n",
       "8   r  o  b  r  p  y  y  y  b  b  p\n",
       "9   g  o  p  b  p  y  y  g  r  g  b\n",
       "10  b  g  p  p  p  p  p  g  y  g  o"
      ]
     },
     "execution_count": 26,
     "metadata": {},
     "output_type": "execute_result"
    }
   ],
   "source": [
    "fp=(eval(input('请输入旗点纵坐标（从0开始）：')), eval(input('请输入旗点横坐标（从0开始）：')))\n",
    "\n",
    "mat=pd.read_excel(r'C:/Anaconda/JupyterCode/色彩翻翻求解器/3-7 (3,2).xlsx', header=None)\n",
    "sl=np.shape(mat)[0]\n",
    "\n",
    "mat"
   ]
  },
  {
   "cell_type": "code",
   "execution_count": 27,
   "id": "4cd3838e",
   "metadata": {
    "ExecuteTime": {
     "end_time": "2023-11-08T14:25:59.474734Z",
     "start_time": "2023-11-08T14:25:59.459908Z"
    }
   },
   "outputs": [],
   "source": [
    "G=nx.Graph()\n",
    "\n",
    "# 添加节点，为其设置颜色属性\n",
    "for i in range(sl):\n",
    "    for j in range(sl):\n",
    "        G.add_node((i,j), color=mat.iloc[i,j])\n",
    "\n",
    "# 添加边，设置边权\n",
    "for i in range(sl):\n",
    "    for j in range(sl):\n",
    "        if j+1<=sl-1:\n",
    "            G.add_edge((i,j), (i,j+1), weight=1)\n",
    "        if i+1<=sl-1:\n",
    "            G.add_edge((i,j), (i+1,j), weight=1)\n",
    "\n",
    "# print(G._node)\n",
    "# print(pd.DataFrame(G.edges(data=True)))"
   ]
  },
  {
   "cell_type": "code",
   "execution_count": 28,
   "id": "b139eb56",
   "metadata": {
    "ExecuteTime": {
     "end_time": "2023-11-08T14:25:59.490556Z",
     "start_time": "2023-11-08T14:25:59.474734Z"
    }
   },
   "outputs": [],
   "source": [
    "def merge(G, fp):\n",
    "    G1=G.copy()\n",
    "    for node in list(G1._node):\n",
    "        if node!=fp:\n",
    "            for neighbor in G1[node]:\n",
    "                if (G1._node[node])['color']==(G1._node[neighbor])['color']:\n",
    "                    target_neighbor=neighbor\n",
    "                    other_neighbors=list(set(G1[node])-{target_neighbor})\n",
    "                        \n",
    "                    for curr_neighbor in other_neighbors:\n",
    "                        G1.add_edge(curr_neighbor, target_neighbor, weight=1)\n",
    "                            \n",
    "                    G1.remove_node(node)\n",
    "                    break\n",
    "                    \n",
    "    return G1"
   ]
  },
  {
   "cell_type": "code",
   "execution_count": 29,
   "id": "1a15917b",
   "metadata": {
    "ExecuteTime": {
     "end_time": "2023-11-08T14:25:59.506065Z",
     "start_time": "2023-11-08T14:25:59.491408Z"
    }
   },
   "outputs": [],
   "source": [
    "G=merge(G, fp)\n",
    "\n",
    "# print(G._node)\n",
    "# print(pd.DataFrame(G.edges(data=True)))"
   ]
  },
  {
   "cell_type": "code",
   "execution_count": 30,
   "id": "fff4b2a8",
   "metadata": {
    "ExecuteTime": {
     "end_time": "2023-11-08T14:25:59.520628Z",
     "start_time": "2023-11-08T14:25:59.508033Z"
    }
   },
   "outputs": [],
   "source": [
    "def calc_TWD(G, fp, dwc=1):\n",
    "    TWD=0\n",
    "    for node in G._node:\n",
    "        depth=nx.dijkstra_path_length(G, source=fp, target=node)\n",
    "        TWD+=depth*dwc**depth\n",
    "        \n",
    "    return TWD"
   ]
  },
  {
   "cell_type": "code",
   "execution_count": 31,
   "id": "8062a863",
   "metadata": {
    "ExecuteTime": {
     "end_time": "2023-11-08T14:25:59.536545Z",
     "start_time": "2023-11-08T14:25:59.522624Z"
    }
   },
   "outputs": [],
   "source": [
    "def greedy_algorithm(G, fp, dwc=1):\n",
    "    G1=G.copy()\n",
    "    pre_TWD=calc_TWD(G1, fp, dwc)\n",
    "    seq_opt=[]\n",
    "    \n",
    "    while pre_TWD>0:\n",
    "        o_T_df=pd.DataFrame([list({'r','o','y','g','b','p'}-{(G1._node[fp])['color']}), np.empty(5, dtype=int)], \\\n",
    "                            index=['operation', 'TWD']).T\n",
    "        for i in range(5):\n",
    "            G2=G1.copy()\n",
    "            operation=o_T_df.iloc[i, 0]\n",
    "            (G2._node[fp])['color']=operation\n",
    "            o_T_df.iloc[i, 1]=calc_TWD(merge(G2, fp), fp, dwc)\n",
    "            \n",
    "        operation_opt=o_T_df.sort_values(by='TWD').iloc[0, 0]\n",
    "        seq_opt.append(operation_opt)\n",
    "        \n",
    "        (G1._node[fp])['color']=operation_opt\n",
    "        G1=merge(G1, fp)\n",
    "        pre_TWD=calc_TWD(G1, fp, dwc)\n",
    "        \n",
    "    return len(seq_opt), seq_opt"
   ]
  },
  {
   "cell_type": "code",
   "execution_count": 32,
   "id": "d59e76ff",
   "metadata": {
    "ExecuteTime": {
     "end_time": "2023-11-08T14:25:59.706162Z",
     "start_time": "2023-11-08T14:25:59.538265Z"
    }
   },
   "outputs": [
    {
     "name": "stdout",
     "output_type": "stream",
     "text": [
      "12\n",
      "['o', 'y', 'o', 'g', 'o', 'b', 'r', 'g', 'p', 'y', 'b', 'o']\n"
     ]
    }
   ],
   "source": [
    "steps, seq_opt=greedy_algorithm(G, fp, dwc=1)\n",
    "\n",
    "print(steps)\n",
    "print(seq_opt)"
   ]
  }
 ],
 "metadata": {
  "kernelspec": {
   "display_name": "Python 3 (ipykernel)",
   "language": "python",
   "name": "python3"
  },
  "language_info": {
   "codemirror_mode": {
    "name": "ipython",
    "version": 3
   },
   "file_extension": ".py",
   "mimetype": "text/x-python",
   "name": "python",
   "nbconvert_exporter": "python",
   "pygments_lexer": "ipython3",
   "version": "3.9.18"
  }
 },
 "nbformat": 4,
 "nbformat_minor": 5
}
