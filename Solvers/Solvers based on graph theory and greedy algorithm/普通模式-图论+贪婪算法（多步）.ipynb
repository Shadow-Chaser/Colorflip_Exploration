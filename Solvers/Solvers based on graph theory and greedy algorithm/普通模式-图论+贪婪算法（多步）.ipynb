{
 "cells": [
  {
   "cell_type": "code",
   "execution_count": 79,
   "id": "95d6cb55",
   "metadata": {
    "ExecuteTime": {
     "end_time": "2023-11-08T14:43:03.256497Z",
     "start_time": "2023-11-08T14:43:03.249497Z"
    }
   },
   "outputs": [],
   "source": [
    "import numpy as np\n",
    "import pandas as pd\n",
    "import networkx as nx"
   ]
  },
  {
   "cell_type": "code",
   "execution_count": 80,
   "id": "92dfb187",
   "metadata": {
    "ExecuteTime": {
     "end_time": "2023-11-08T14:43:06.385128Z",
     "start_time": "2023-11-08T14:43:03.258498Z"
    }
   },
   "outputs": [
    {
     "name": "stdout",
     "output_type": "stream",
     "text": [
      "请输入旗点纵坐标（从0开始）：2\n",
      "请输入旗点横坐标（从0开始）：1\n"
     ]
    },
    {
     "data": {
      "text/html": [
       "<div>\n",
       "<style scoped>\n",
       "    .dataframe tbody tr th:only-of-type {\n",
       "        vertical-align: middle;\n",
       "    }\n",
       "\n",
       "    .dataframe tbody tr th {\n",
       "        vertical-align: top;\n",
       "    }\n",
       "\n",
       "    .dataframe thead th {\n",
       "        text-align: right;\n",
       "    }\n",
       "</style>\n",
       "<table border=\"1\" class=\"dataframe\">\n",
       "  <thead>\n",
       "    <tr style=\"text-align: right;\">\n",
       "      <th></th>\n",
       "      <th>0</th>\n",
       "      <th>1</th>\n",
       "      <th>2</th>\n",
       "      <th>3</th>\n",
       "      <th>4</th>\n",
       "      <th>5</th>\n",
       "      <th>6</th>\n",
       "      <th>7</th>\n",
       "      <th>8</th>\n",
       "      <th>9</th>\n",
       "      <th>10</th>\n",
       "    </tr>\n",
       "  </thead>\n",
       "  <tbody>\n",
       "    <tr>\n",
       "      <th>0</th>\n",
       "      <td>r</td>\n",
       "      <td>r</td>\n",
       "      <td>y</td>\n",
       "      <td>y</td>\n",
       "      <td>g</td>\n",
       "      <td>b</td>\n",
       "      <td>r</td>\n",
       "      <td>o</td>\n",
       "      <td>r</td>\n",
       "      <td>b</td>\n",
       "      <td>b</td>\n",
       "    </tr>\n",
       "    <tr>\n",
       "      <th>1</th>\n",
       "      <td>b</td>\n",
       "      <td>p</td>\n",
       "      <td>y</td>\n",
       "      <td>p</td>\n",
       "      <td>o</td>\n",
       "      <td>o</td>\n",
       "      <td>p</td>\n",
       "      <td>o</td>\n",
       "      <td>p</td>\n",
       "      <td>g</td>\n",
       "      <td>o</td>\n",
       "    </tr>\n",
       "    <tr>\n",
       "      <th>2</th>\n",
       "      <td>g</td>\n",
       "      <td>y</td>\n",
       "      <td>y</td>\n",
       "      <td>g</td>\n",
       "      <td>r</td>\n",
       "      <td>b</td>\n",
       "      <td>o</td>\n",
       "      <td>r</td>\n",
       "      <td>r</td>\n",
       "      <td>o</td>\n",
       "      <td>g</td>\n",
       "    </tr>\n",
       "    <tr>\n",
       "      <th>3</th>\n",
       "      <td>b</td>\n",
       "      <td>b</td>\n",
       "      <td>b</td>\n",
       "      <td>b</td>\n",
       "      <td>p</td>\n",
       "      <td>b</td>\n",
       "      <td>o</td>\n",
       "      <td>r</td>\n",
       "      <td>o</td>\n",
       "      <td>b</td>\n",
       "      <td>y</td>\n",
       "    </tr>\n",
       "    <tr>\n",
       "      <th>4</th>\n",
       "      <td>p</td>\n",
       "      <td>b</td>\n",
       "      <td>b</td>\n",
       "      <td>g</td>\n",
       "      <td>r</td>\n",
       "      <td>b</td>\n",
       "      <td>g</td>\n",
       "      <td>g</td>\n",
       "      <td>g</td>\n",
       "      <td>b</td>\n",
       "      <td>y</td>\n",
       "    </tr>\n",
       "    <tr>\n",
       "      <th>5</th>\n",
       "      <td>p</td>\n",
       "      <td>p</td>\n",
       "      <td>p</td>\n",
       "      <td>g</td>\n",
       "      <td>r</td>\n",
       "      <td>y</td>\n",
       "      <td>b</td>\n",
       "      <td>r</td>\n",
       "      <td>p</td>\n",
       "      <td>b</td>\n",
       "      <td>b</td>\n",
       "    </tr>\n",
       "    <tr>\n",
       "      <th>6</th>\n",
       "      <td>b</td>\n",
       "      <td>y</td>\n",
       "      <td>b</td>\n",
       "      <td>r</td>\n",
       "      <td>g</td>\n",
       "      <td>p</td>\n",
       "      <td>b</td>\n",
       "      <td>b</td>\n",
       "      <td>p</td>\n",
       "      <td>o</td>\n",
       "      <td>g</td>\n",
       "    </tr>\n",
       "    <tr>\n",
       "      <th>7</th>\n",
       "      <td>y</td>\n",
       "      <td>g</td>\n",
       "      <td>b</td>\n",
       "      <td>r</td>\n",
       "      <td>r</td>\n",
       "      <td>r</td>\n",
       "      <td>y</td>\n",
       "      <td>y</td>\n",
       "      <td>r</td>\n",
       "      <td>r</td>\n",
       "      <td>g</td>\n",
       "    </tr>\n",
       "    <tr>\n",
       "      <th>8</th>\n",
       "      <td>b</td>\n",
       "      <td>o</td>\n",
       "      <td>g</td>\n",
       "      <td>y</td>\n",
       "      <td>r</td>\n",
       "      <td>y</td>\n",
       "      <td>p</td>\n",
       "      <td>p</td>\n",
       "      <td>p</td>\n",
       "      <td>p</td>\n",
       "      <td>p</td>\n",
       "    </tr>\n",
       "    <tr>\n",
       "      <th>9</th>\n",
       "      <td>r</td>\n",
       "      <td>o</td>\n",
       "      <td>o</td>\n",
       "      <td>r</td>\n",
       "      <td>g</td>\n",
       "      <td>y</td>\n",
       "      <td>p</td>\n",
       "      <td>b</td>\n",
       "      <td>r</td>\n",
       "      <td>r</td>\n",
       "      <td>p</td>\n",
       "    </tr>\n",
       "    <tr>\n",
       "      <th>10</th>\n",
       "      <td>g</td>\n",
       "      <td>b</td>\n",
       "      <td>b</td>\n",
       "      <td>y</td>\n",
       "      <td>y</td>\n",
       "      <td>y</td>\n",
       "      <td>p</td>\n",
       "      <td>p</td>\n",
       "      <td>r</td>\n",
       "      <td>p</td>\n",
       "      <td>b</td>\n",
       "    </tr>\n",
       "  </tbody>\n",
       "</table>\n",
       "</div>"
      ],
      "text/plain": [
       "   0  1  2  3  4  5  6  7  8  9  10\n",
       "0   r  r  y  y  g  b  r  o  r  b  b\n",
       "1   b  p  y  p  o  o  p  o  p  g  o\n",
       "2   g  y  y  g  r  b  o  r  r  o  g\n",
       "3   b  b  b  b  p  b  o  r  o  b  y\n",
       "4   p  b  b  g  r  b  g  g  g  b  y\n",
       "5   p  p  p  g  r  y  b  r  p  b  b\n",
       "6   b  y  b  r  g  p  b  b  p  o  g\n",
       "7   y  g  b  r  r  r  y  y  r  r  g\n",
       "8   b  o  g  y  r  y  p  p  p  p  p\n",
       "9   r  o  o  r  g  y  p  b  r  r  p\n",
       "10  g  b  b  y  y  y  p  p  r  p  b"
      ]
     },
     "execution_count": 80,
     "metadata": {},
     "output_type": "execute_result"
    }
   ],
   "source": [
    "fp=(eval(input('请输入旗点纵坐标（从0开始）：')), eval(input('请输入旗点横坐标（从0开始）：')))\n",
    "\n",
    "mat=pd.read_excel(r'C:/Anaconda/JupyterCode/色彩翻翻求解器/3-6 (2,1).xlsx', header=None)\n",
    "sl=np.shape(mat)[0]\n",
    "\n",
    "mat"
   ]
  },
  {
   "cell_type": "code",
   "execution_count": 81,
   "id": "34624714",
   "metadata": {
    "ExecuteTime": {
     "end_time": "2023-11-08T14:43:06.399502Z",
     "start_time": "2023-11-08T14:43:06.386128Z"
    }
   },
   "outputs": [],
   "source": [
    "G=nx.Graph()\n",
    "\n",
    "# 添加节点，为其设置颜色属性\n",
    "for i in range(sl):\n",
    "    for j in range(sl):\n",
    "        G.add_node((i,j), color=mat.iloc[i,j])\n",
    "\n",
    "# 添加边，设置边权\n",
    "for i in range(sl):\n",
    "    for j in range(sl):\n",
    "        if j+1<=sl-1:\n",
    "            G.add_edge((i,j), (i,j+1), weight=1)\n",
    "        if i+1<=sl-1:\n",
    "            G.add_edge((i,j), (i+1,j), weight=1)\n",
    "\n",
    "# print(G._node)\n",
    "# print(pd.DataFrame(G.edges(data=True)))"
   ]
  },
  {
   "cell_type": "code",
   "execution_count": 82,
   "id": "6360552a",
   "metadata": {
    "ExecuteTime": {
     "end_time": "2023-11-08T14:43:06.415332Z",
     "start_time": "2023-11-08T14:43:06.399502Z"
    }
   },
   "outputs": [],
   "source": [
    "def merge(G, fp):\n",
    "    G1=G.copy()\n",
    "    for node in list(G1._node):\n",
    "        if node!=fp:\n",
    "            for neighbor in G1[node]:\n",
    "                if (G1._node[node])['color']==(G1._node[neighbor])['color']:\n",
    "                    target_neighbor=neighbor\n",
    "                    other_neighbors=list(set(G1[node])-{target_neighbor})\n",
    "                        \n",
    "                    for curr_neighbor in other_neighbors:\n",
    "                        G1.add_edge(curr_neighbor, target_neighbor, weight=1)\n",
    "                            \n",
    "                    G1.remove_node(node)\n",
    "                    break\n",
    "                    \n",
    "    return G1"
   ]
  },
  {
   "cell_type": "code",
   "execution_count": 83,
   "id": "ddcb44a9",
   "metadata": {
    "ExecuteTime": {
     "end_time": "2023-11-08T14:43:06.432005Z",
     "start_time": "2023-11-08T14:43:06.416469Z"
    }
   },
   "outputs": [],
   "source": [
    "G=merge(G, fp)\n",
    "\n",
    "# print(G._node)\n",
    "# print(pd.DataFrame(G.edges(data=True)))"
   ]
  },
  {
   "cell_type": "code",
   "execution_count": 84,
   "id": "a0a93789",
   "metadata": {
    "ExecuteTime": {
     "end_time": "2023-11-08T14:43:06.448631Z",
     "start_time": "2023-11-08T14:43:06.433411Z"
    }
   },
   "outputs": [],
   "source": [
    "def calc_TWD(G, fp, dwc=1):\n",
    "    TWD=0\n",
    "    for node in G._node:\n",
    "        depth=nx.dijkstra_path_length(G, source=fp, target=node)\n",
    "        TWD+=depth*dwc**depth\n",
    "        \n",
    "    return TWD"
   ]
  },
  {
   "cell_type": "code",
   "execution_count": 85,
   "id": "c030d071",
   "metadata": {
    "ExecuteTime": {
     "end_time": "2023-11-08T14:43:06.465253Z",
     "start_time": "2023-11-08T14:43:06.449852Z"
    }
   },
   "outputs": [],
   "source": [
    "def recursive_min_TWD_calculator(G, fp, dwc, steps, operation):\n",
    "    G1=G.copy()\n",
    "    curr_operation=operation\n",
    "    \n",
    "    (G1._node[fp])['color']=curr_operation\n",
    "    G1=merge(G1, fp)\n",
    "    \n",
    "    if steps==1:\n",
    "        return calc_TWD(G1, fp, dwc)\n",
    "        \n",
    "    return np.min([recursive_min_TWD_calculator(G1, fp, dwc, steps-1, operation) \\\n",
    "                   for operation in list({'r','o','y','g','b','p'}-{curr_operation})])"
   ]
  },
  {
   "cell_type": "code",
   "execution_count": 86,
   "id": "9acc0d89",
   "metadata": {
    "ExecuteTime": {
     "end_time": "2023-11-08T14:43:06.481822Z",
     "start_time": "2023-11-08T14:43:06.466479Z"
    }
   },
   "outputs": [],
   "source": [
    "def multistep_greedy_algorithm(G, fp, dwc=1, steps=1):\n",
    "    G1=G.copy()\n",
    "    pre_TWD=calc_TWD(G1, fp, dwc)\n",
    "    seq_opt=[]\n",
    "    \n",
    "    while pre_TWD>0:\n",
    "        o_T_df=pd.DataFrame([list({'r','o','y','g','b','p'}-{(G1._node[fp])['color']}), np.empty(5, dtype=int)], \\\n",
    "                            index=['operation', 'TWD']).T\n",
    "        \n",
    "        steps_to_use=steps\n",
    "        is_excessive=True\n",
    "        while is_excessive==True:\n",
    "            for i in range(5):\n",
    "                operation=o_T_df.iloc[i, 0]\n",
    "                o_T_df.iloc[i, 1]=recursive_min_TWD_calculator(G1, fp, dwc, steps_to_use, operation)\n",
    "                \n",
    "            zero_counter=0\n",
    "            for i in o_T_df['TWD']:\n",
    "                zero_counter+=1 if i==0 else 0\n",
    "                \n",
    "            is_excessive=False if zero_counter<=1 else True\n",
    "            steps_to_use-=1\n",
    "            \n",
    "        operation_opt=o_T_df.sort_values(by='TWD').iloc[0, 0]\n",
    "        seq_opt.append(operation_opt)\n",
    "        \n",
    "        (G1._node[fp])['color']=operation_opt\n",
    "        G1=merge(G1, fp)\n",
    "        pre_TWD=calc_TWD(G1, fp, dwc)\n",
    "        \n",
    "    return len(seq_opt), seq_opt"
   ]
  },
  {
   "cell_type": "code",
   "execution_count": 92,
   "id": "6139dcc7",
   "metadata": {
    "ExecuteTime": {
     "end_time": "2023-11-08T14:49:31.676894Z",
     "start_time": "2023-11-08T14:46:06.312414Z"
    }
   },
   "outputs": [
    {
     "name": "stdout",
     "output_type": "stream",
     "text": [
      "14\n",
      "['b', 'p', 'b', 'g', 'r', 'o', 'y', 'p', 'r', 'b', 'o', 'g', 'p', 'y']\n"
     ]
    }
   ],
   "source": [
    "steps, seq_opt=multistep_greedy_algorithm(G, fp, dwc=1, steps=6)\n",
    "\n",
    "print(steps)\n",
    "print(seq_opt)"
   ]
  }
 ],
 "metadata": {
  "kernelspec": {
   "display_name": "Python 3 (ipykernel)",
   "language": "python",
   "name": "python3"
  },
  "language_info": {
   "codemirror_mode": {
    "name": "ipython",
    "version": 3
   },
   "file_extension": ".py",
   "mimetype": "text/x-python",
   "name": "python",
   "nbconvert_exporter": "python",
   "pygments_lexer": "ipython3",
   "version": "3.9.18"
  }
 },
 "nbformat": 4,
 "nbformat_minor": 5
}
